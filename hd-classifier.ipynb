{
 "metadata": {
  "name": "",
  "signature": "sha256:92d1c8504904648cd16164c571b33aee9c1838a8c0d13c5ef740d2b5e503bbae"
 },
 "nbformat": 3,
 "nbformat_minor": 0,
 "worksheets": [
  {
   "cells": [
    {
     "cell_type": "code",
     "collapsed": false,
     "input": [
      "import requests\n",
      "from pymongo import MongoClient\n",
      "from requests.auth import HTTPBasicAuth\n",
      "from collections import Counter\n",
      "from sklearn.metrics import f1_score\n",
      "from sklearn.feature_extraction.text import TfidfVectorizer\n",
      "from sklearn.feature_extraction.text import CountVectorizer\n",
      "from sklearn.cluster import KMeans\n",
      "from nltk.corpus import stopwords\n",
      "from sklearn.linear_model import LogisticRegression\n",
      "import numpy as np\n",
      "import matplotlib.pyplot as plt\n",
      "from sklearn.metrics import confusion_matrix\n",
      "from sklearn.ensemble import RandomForestClassifier\n",
      "from sklearn.naive_bayes import MultinomialNB\n",
      "from gensim.models import Word2Vec\n",
      "from gensim.models import Doc2Vec\n",
      "from nltk.stem import SnowballStemmer\n",
      "import re\n",
      "import gensim\n",
      "from gensim.models.doc2vec import LabeledSentence\n",
      "from gensim.models.ldamodel import LdaModel\n",
      "from gensim.models.ldamulticore import LdaMulticore\n",
      "from gensim.corpora.textcorpus import TextCorpus\n",
      "from sklearn.svm import SVC\n",
      "%pylab inline"
     ],
     "language": "python",
     "metadata": {},
     "outputs": [
      {
       "output_type": "stream",
       "stream": "stdout",
       "text": [
        "Populating the interactive namespace from numpy and matplotlib\n"
       ]
      }
     ],
     "prompt_number": 198
    },
    {
     "cell_type": "code",
     "collapsed": false,
     "input": [
      "#from sklearn.cluster import _k_means\n",
      "#a = requests.get('https://issues.apache.org/jira/browse/HIVE-8710')\n",
      "#client = MongoClient('localhost', 27017)\n",
      "#db = client['helpdesk']\n",
      "#coll = db['tickets']"
     ],
     "language": "python",
     "metadata": {},
     "outputs": [],
     "prompt_number": 3
    },
    {
     "cell_type": "code",
     "collapsed": false,
     "input": [
      "import sklearn\n",
      "sklearn.__version__"
     ],
     "language": "python",
     "metadata": {},
     "outputs": [
      {
       "metadata": {},
       "output_type": "pyout",
       "prompt_number": 2,
       "text": [
        "'0.15.2'"
       ]
      }
     ],
     "prompt_number": 2
    },
    {
     "cell_type": "code",
     "collapsed": false,
     "input": [
      "#baseurl = 'https://issues.apache.org/jira/browse/'\n",
      "#project = 'HIVE'\n",
      "#for x in range(6418,8711):\n",
      "#    ticket = make_db_entry(baseurl, project, x)\n",
      "#    if x % 100 == 0:\n",
      "#        print 'x:', x, ' status: ', ticket['http status']\n",
      "#    insert_db_entry(ticket,coll)"
     ],
     "language": "python",
     "metadata": {},
     "outputs": [],
     "prompt_number": 232
    },
    {
     "cell_type": "code",
     "collapsed": false,
     "input": [
      "#def make_db_entry(baseurl, project, num):\n",
      "#    url = baseurl + project + '-' + str(num)\n",
      "#    a = requests.get(url)\n",
      "#    ticket = {'url': url,\n",
      "#              'ticketnum': num,\n",
      "#              'project': project,\n",
      "#              'http status': a.status_code,\n",
      "#              'text': a.text}\n",
      "#    return ticket\n",
      "#\n",
      "#def insert_db_entry(ticket, coll):\n",
      "#    coll.insert(ticket)"
     ],
     "language": "python",
     "metadata": {},
     "outputs": [],
     "prompt_number": 233
    },
    {
     "cell_type": "code",
     "collapsed": false,
     "input": [
      "#coll.find({'http status': 200}).count()"
     ],
     "language": "python",
     "metadata": {},
     "outputs": [],
     "prompt_number": 234
    },
    {
     "cell_type": "code",
     "collapsed": false,
     "input": [
      "#coll.find({},{\"$max\": {\"ticketnum\": 1}}).count()"
     ],
     "language": "python",
     "metadata": {},
     "outputs": [],
     "prompt_number": 235
    },
    {
     "cell_type": "code",
     "collapsed": false,
     "input": [
      "#for x in a"
     ],
     "language": "python",
     "metadata": {},
     "outputs": [],
     "prompt_number": 236
    },
    {
     "cell_type": "code",
     "collapsed": false,
     "input": [
      "baseurl = 'https://api.github.com/repos/saltstack/salt/issues?sort=updated&direction=asc&state=all'\n",
      "#a = requests.get('https://api.github.com/repos/saltstack/salt/issues?sort=updated&direction=asc&state=all')\n",
      "client = MongoClient('localhost', 27017)\n",
      "db = client['helpdesk']\n",
      "coll = db['github_saltstack']\n",
      "project = 'saltstack'"
     ],
     "language": "python",
     "metadata": {},
     "outputs": [],
     "prompt_number": 3
    },
    {
     "cell_type": "code",
     "collapsed": false,
     "input": [
      "def db_loop_entry(baseurl, project, coll, page):\n",
      "    url = baseurl + '&page=' + str(page)\n",
      "    a = requests.get(url, auth=HTTPBasicAuth(uid,secret_pass))\n",
      "    json_list = a.json()\n",
      "    if len(json_list) > 0:\n",
      "      for j_obj in json_list:\n",
      "         ticket = {'url': url,\n",
      "                   'project': project,\n",
      "                   'json': j_obj}\n",
      "         coll.insert(ticket)\n",
      "      return True\n",
      "    return False"
     ],
     "language": "python",
     "metadata": {},
     "outputs": [],
     "prompt_number": 8
    },
    {
     "cell_type": "code",
     "collapsed": false,
     "input": [
      "#latest = db_loop_entry(baseurl, project, coll)\n",
      "page = 1\n",
      "more = True\n",
      "while more:\n",
      "    more = db_loop_entry(baseurl, project, coll, page)\n",
      "    if page % 20 == 0:\n",
      "        print page\n",
      "    page += 1"
     ],
     "language": "python",
     "metadata": {},
     "outputs": [
      {
       "output_type": "stream",
       "stream": "stdout",
       "text": [
        "20\n",
        "40"
       ]
      },
      {
       "output_type": "stream",
       "stream": "stdout",
       "text": [
        "\n",
        "60"
       ]
      },
      {
       "output_type": "stream",
       "stream": "stdout",
       "text": [
        "\n",
        "80"
       ]
      },
      {
       "output_type": "stream",
       "stream": "stdout",
       "text": [
        "\n",
        "100"
       ]
      },
      {
       "output_type": "stream",
       "stream": "stdout",
       "text": [
        "\n",
        "120"
       ]
      },
      {
       "output_type": "stream",
       "stream": "stdout",
       "text": [
        "\n",
        "140"
       ]
      },
      {
       "output_type": "stream",
       "stream": "stdout",
       "text": [
        "\n",
        "160"
       ]
      },
      {
       "output_type": "stream",
       "stream": "stdout",
       "text": [
        "\n",
        "180"
       ]
      },
      {
       "output_type": "stream",
       "stream": "stdout",
       "text": [
        "\n",
        "200"
       ]
      },
      {
       "output_type": "stream",
       "stream": "stdout",
       "text": [
        "\n",
        "220"
       ]
      },
      {
       "output_type": "stream",
       "stream": "stdout",
       "text": [
        "\n",
        "240"
       ]
      },
      {
       "output_type": "stream",
       "stream": "stdout",
       "text": [
        "\n",
        "260"
       ]
      },
      {
       "output_type": "stream",
       "stream": "stdout",
       "text": [
        "\n",
        "280"
       ]
      },
      {
       "output_type": "stream",
       "stream": "stdout",
       "text": [
        "\n",
        "300"
       ]
      },
      {
       "output_type": "stream",
       "stream": "stdout",
       "text": [
        "\n",
        "320"
       ]
      },
      {
       "output_type": "stream",
       "stream": "stdout",
       "text": [
        "\n",
        "340"
       ]
      },
      {
       "output_type": "stream",
       "stream": "stdout",
       "text": [
        "\n",
        "360"
       ]
      },
      {
       "output_type": "stream",
       "stream": "stdout",
       "text": [
        "\n",
        "380"
       ]
      },
      {
       "output_type": "stream",
       "stream": "stdout",
       "text": [
        "\n",
        "400"
       ]
      },
      {
       "output_type": "stream",
       "stream": "stdout",
       "text": [
        "\n",
        "420"
       ]
      },
      {
       "output_type": "stream",
       "stream": "stdout",
       "text": [
        "\n",
        "440"
       ]
      },
      {
       "output_type": "stream",
       "stream": "stdout",
       "text": [
        "\n",
        "460"
       ]
      },
      {
       "output_type": "stream",
       "stream": "stdout",
       "text": [
        "\n",
        "480"
       ]
      },
      {
       "output_type": "stream",
       "stream": "stdout",
       "text": [
        "\n",
        "500"
       ]
      },
      {
       "output_type": "stream",
       "stream": "stdout",
       "text": [
        "\n",
        "520"
       ]
      },
      {
       "output_type": "stream",
       "stream": "stdout",
       "text": [
        "\n",
        "540"
       ]
      },
      {
       "output_type": "stream",
       "stream": "stdout",
       "text": [
        "\n",
        "560"
       ]
      },
      {
       "output_type": "stream",
       "stream": "stdout",
       "text": [
        "\n"
       ]
      }
     ],
     "prompt_number": 114
    },
    {
     "cell_type": "code",
     "collapsed": false,
     "input": [
      "count_with_labels = 0\n",
      "count = 0\n",
      "count_of_labels = 0\n",
      "all_labels = Counter()\n",
      "for x in coll.find():\n",
      "    num_labels = len(x['json']['labels'])\n",
      "    if num_labels > 0:\n",
      "        count_with_labels += 1\n",
      "        count_of_labels += num_labels\n",
      "    for label in x['json']['labels']:\n",
      "        all_labels[label['name']] += 1\n",
      "    count += 1"
     ],
     "language": "python",
     "metadata": {},
     "outputs": [],
     "prompt_number": 7
    },
    {
     "cell_type": "code",
     "collapsed": false,
     "input": [
      "print count_with_labels\n",
      "print count\n",
      "print count_of_labels\n",
      "print all_labels"
     ],
     "language": "python",
     "metadata": {},
     "outputs": [
      {
       "output_type": "stream",
       "stream": "stdout",
       "text": [
        "5146\n",
        "17129\n",
        "9657\n",
        "Counter({u'Bug': 2430, u'Medium Severity': 1301, u'Feature': 1141, u'Low Severity': 604, u'Documentation': 475, u'Fixed Pending Verification': 473, u'in progress': 460, u'Bugfix - [Done] back-ported': 371, u'High Severity': 347, u'Low-Hanging Fruit': 340, u'Windows': 221, u'Salt-Cloud': 216, u'Regression': 158, u'Pending Discussion': 135, u'Duplicate': 128, u'Expected Behavior': 127, u'Cannot Reproduce': 106, u'Info Needed': 99, u'Question': 92, u'Salt-SSH': 92, u'Packaging': 70, u\"Won't Fix For Now\": 40, u'Execution Module': 38, u'State Module': 37, u'Upstream Bug': 36, u'Needs Testcase': 30, u'Multi-Master': 16, u'Critical': 15, u'RAET': 14, u'Confirmed': 14, u'Core': 14, u'Salt-API': 13, u'tt:not_started': 1, u'Bugfix - back-port': 1, u'Other Module': 1, u'Blocker': 1})\n"
       ]
      }
     ],
     "prompt_number": 10
    },
    {
     "cell_type": "code",
     "collapsed": false,
     "input": [
      "labeldict = {'Bug': 'Bug',\n",
      "             'Medium Severity': 'Bug',\n",
      "             'Feature': 'Feature',\n",
      "             'Low Severity': 'Bug',\n",
      "             'Documentation': 'Documentation',\n",
      "             'Fixed Pending Verification': 'Bug',\n",
      "             'in progress': 'unk',\n",
      "             'Bugfix - [Done] back-ported': 'Bug',\n",
      "             'High Severity': 'Bug',\n",
      "             'Low-Hanging Fruit': 'unk',\n",
      "             'Windows': 'unk',\n",
      "             'Salt-Cloud': 'unk',\n",
      "             'Regression': 'Bug',\n",
      "             'Pending Discussion': 'unk',\n",
      "             'Duplicate': 'unk',\n",
      "             'Expected Behavior': 'unk',\n",
      "             'Cannot Reproduce': 'Bug',\n",
      "             'Info Needed': 'unk',\n",
      "             'Question': 'unk',\n",
      "             'Salt-SSH': 'unk',\n",
      "             'Packaging': 'unk',\n",
      "             \"Won't Fix For Now\": 'Bug',\n",
      "             'Execution Module': 'unk',\n",
      "             'State Module': 'unk',\n",
      "             'Upstream Bug': 'Bug',\n",
      "             'Needs Testcase': 'unk',\n",
      "             'Multi-Master': 'unk',\n",
      "             'Critical': 'Bug',\n",
      "             'RAET': 'unk',\n",
      "             'Confirmed': 'Bug',\n",
      "             'Core': 'unk',\n",
      "             'Salt-API': 'unk',\n",
      "             'tt:not_started': 'unk',\n",
      "             'Bugfix - back-port': 'Bug',\n",
      "             'Other Module': 'unk',\n",
      "             'Blocker': 'unk'}\n",
      "for x in coll.find():\n",
      "  if 'body' not in x['json'] or x['json']['body'] is None:\n",
      "    x['json']['body'] = ''\n",
      "  if 'text' not in x['json'] or x['json']['text'] is None:\n",
      "    x['json']['text'] = ''\n",
      "  x['json']['text'] = x['json']['body'] + x['json']['title']\n",
      "  if 'labelBug' in x['json']: x['json'].pop('labelBug')\n",
      "  if 'labelFeature' in x['json']: x['json'].pop('labelFeature')\n",
      "  for label in x['json']['labels']:\n",
      "        if label['name'] == 'Bug':\n",
      "            x['json']['labelBug'] = 1\n",
      "        if label['name'] == 'Feature':\n",
      "            x['json']['labelFeature'] = 1\n",
      "  if 'labelBug' not in x['json'] and 'labelFeature' not in x['json']:\n",
      "    for label in x['json']['labels']:\n",
      "        x['json']['label' + labeldict[label['name']]] = 1\n",
      "  #if 'labelBug' in x['json'] and 'labelFeature' in x['json']:\n",
      "  #      print x['json']['labels']\n",
      "  coll.update({\"_id\": x['_id']},x)"
     ],
     "language": "python",
     "metadata": {},
     "outputs": [],
     "prompt_number": 481
    },
    {
     "cell_type": "code",
     "collapsed": true,
     "input": [
      "count = 0\n",
      "for x in coll.find():\n",
      "    if 'labelBug' in x['json'] and 'labelFeature' in x['json']:\n",
      "        count += 1\n",
      "        print x['json']['labels'], x['json']['html_url']"
     ],
     "language": "python",
     "metadata": {},
     "outputs": [
      {
       "output_type": "stream",
       "stream": "stdout",
       "text": [
        "[{u'url': u'https://api.github.com/repos/saltstack/salt/labels/Bug', u'color': u'e11d21', u'name': u'Bug'}, {u'url': u'https://api.github.com/repos/saltstack/salt/labels/Feature', u'color': u'009800', u'name': u'Feature'}, {u'url': u'https://api.github.com/repos/saltstack/salt/labels/Low+Severity', u'color': u'ffffff', u'name': u'Low Severity'}] https://github.com/saltstack/salt/issues/10955\n",
        "[{u'url': u'https://api.github.com/repos/saltstack/salt/labels/Bug', u'color': u'e11d21', u'name': u'Bug'}, {u'url': u'https://api.github.com/repos/saltstack/salt/labels/Core', u'color': u'bfe5bf', u'name': u'Core'}, {u'url': u'https://api.github.com/repos/saltstack/salt/labels/Feature', u'color': u'009800', u'name': u'Feature'}, {u'url': u'https://api.github.com/repos/saltstack/salt/labels/High+Severity', u'color': u'eb6420', u'name': u'High Severity'}, {u'url': u'https://api.github.com/repos/saltstack/salt/labels/Low-Hanging+Fruit', u'color': u'f7c6c7', u'name': u'Low-Hanging Fruit'}]"
       ]
      },
      {
       "output_type": "stream",
       "stream": "stdout",
       "text": [
        " https://github.com/saltstack/salt/issues/9991\n"
       ]
      }
     ],
     "prompt_number": 482
    },
    {
     "cell_type": "code",
     "collapsed": false,
     "input": [
      "len(y_feature)"
     ],
     "language": "python",
     "metadata": {},
     "outputs": [
      {
       "metadata": {},
       "output_type": "pyout",
       "prompt_number": 489,
       "text": [
        "4091"
       ]
      }
     ],
     "prompt_number": 489
    },
    {
     "cell_type": "code",
     "collapsed": false,
     "input": [
      "def token_stem(sentence,stemmer):\n",
      "    date = re.compile(u'(201[0-9]+)')\n",
      "    sentence = date.sub('regex_date',sentence)\n",
      "    num = re.compile(u'([0-9]+)')\n",
      "    sentence = num.sub('regex_num',sentence) # replace with # of digits\n",
      "    pyfile = re.compile(u'(\\/[\\w\\/]+.py)')\n",
      "    sentence = pyfile.sub('regex_pyfile',sentence)\n",
      "    dunders = re.compile(u'(__\\w+|\\w+__)')\n",
      "    sentence = dunders.sub('regex_dunders',sentence)\n",
      "    return [stemmer.stem(x) for x in re.findall(u'(?u)\\\\b\\\\w\\\\w+\\\\b',sentence.lower())]"
     ],
     "language": "python",
     "metadata": {},
     "outputs": [],
     "prompt_number": 484
    },
    {
     "cell_type": "code",
     "collapsed": false,
     "input": [
      "X = []\n",
      "y_bug = []\n",
      "y_feature = []\n",
      "#y_documentation = []\n",
      "all_sentences = []\n",
      "all_labels = []\n",
      "sentences_for_word2vec = []\n",
      "stemmer = SnowballStemmer('english')\n",
      "for i, x in enumerate(coll.find()):\n",
      "    all_sentences.append(token_stem(x['json']['text'],stemmer))\n",
      "    sentences_for_word2vec.append(token_stem(x['json']['text'],stemmer))\n",
      "    all_labels.append([y['name'] for y in x['json']['labels']])\n",
      "    if len(x['json']['labels']) > 0:\n",
      "      if ('labelBug' in x['json']) != ('labelFeature' in x['json']):\n",
      "          X.append(token_stem(x['json']['text'],stemmer))\n",
      "      #X.append(x['json']['title'])\n",
      "          if 'labelBug' in x['json']:\n",
      "              y_bug.append(1)\n",
      "          else:\n",
      "              y_bug.append(0)\n",
      "          if 'labelFeature' in x['json']:\n",
      "              y_feature.append(1)\n",
      "          else:\n",
      "              y_feature.append(0)\n",
      "      #if 'labelDocumentation' in x['json']:\n",
      "      #    y_documentation.append(1)\n",
      "      #else:\n",
      "      #    y_documentation.append(0)\n",
      "y_bug = np.array(y_bug)\n",
      "y_feature = np.array(y_feature)\n",
      "y_comb = np.argmax(np.hstack((y_feature.reshape(-1,1), y_bug.reshape(-1,1))),axis=1)\n",
      "#y_documentation = np.array(y_documentation)"
     ],
     "language": "python",
     "metadata": {},
     "outputs": [],
     "prompt_number": 485
    },
    {
     "cell_type": "code",
     "collapsed": false,
     "input": [
      "#X = [' '.join(x) for x in X]\n",
      "len(y_feature)"
     ],
     "language": "python",
     "metadata": {},
     "outputs": [
      {
       "metadata": {},
       "output_type": "pyout",
       "prompt_number": 497,
       "text": [
        "4091"
       ]
      }
     ],
     "prompt_number": 497
    },
    {
     "cell_type": "code",
     "collapsed": false,
     "input": [
      "vec = CountVectorizer(stop_words='english',max_features=10000)\n",
      "vec_t = vec.fit_transform(' '.join(x) for x in all_sentences)\n",
      "id2word = {v: k for k, v in vec.vocabulary_.iteritems()}\n",
      "vec_corpus = gensim.matutils.Sparse2Corpus(vec_t.T)\n",
      "lda = LdaMulticore(corpus=vec_corpus,id2word=id2word,iterations=200,num_topics=20,passes=20,workers=4)\n",
      "lda.save('ldalippi.lda')"
     ],
     "language": "python",
     "metadata": {},
     "outputs": [],
     "prompt_number": 614
    },
    {
     "cell_type": "code",
     "collapsed": false,
     "input": [
      "labeled_counts = vec.transform(X)"
     ],
     "language": "python",
     "metadata": {},
     "outputs": [],
     "prompt_number": 615
    },
    {
     "cell_type": "code",
     "collapsed": false,
     "input": [
      "idx = np.random.rand(labeled_counts.shape[0]) < .8"
     ],
     "language": "python",
     "metadata": {},
     "outputs": [],
     "prompt_number": 616
    },
    {
     "cell_type": "code",
     "collapsed": false,
     "input": [
      "labeled_counts_train = labeled_counts[idx]\n",
      "labeled_counts_test = labeled_counts[~idx]\n",
      "y_comb_train = y_comb[idx]\n",
      "y_comb_test = y_comb[~idx]"
     ],
     "language": "python",
     "metadata": {},
     "outputs": [],
     "prompt_number": 617
    },
    {
     "cell_type": "code",
     "collapsed": false,
     "input": [
      "labeled_probas = lda.inference(gensim.matutils.Sparse2Corpus(labeled_counts.T))"
     ],
     "language": "python",
     "metadata": {},
     "outputs": [],
     "prompt_number": 618
    },
    {
     "cell_type": "code",
     "collapsed": false,
     "input": [
      "labeled_probas_train = labeled_probas[0][idx]\n",
      "labeled_probas_test = labeled_probas[0][~idx]"
     ],
     "language": "python",
     "metadata": {},
     "outputs": [],
     "prompt_number": 619
    },
    {
     "cell_type": "code",
     "collapsed": false,
     "input": [
      "lr_lda = LogisticRegression()\n",
      "lr_lda.fit(labeled_probas_train,y_comb_train)"
     ],
     "language": "python",
     "metadata": {},
     "outputs": [
      {
       "metadata": {},
       "output_type": "pyout",
       "prompt_number": 620,
       "text": [
        "LogisticRegression(C=1.0, class_weight=None, dual=False, fit_intercept=True,\n",
        "          intercept_scaling=1, penalty='l2', random_state=None, tol=0.0001)"
       ]
      }
     ],
     "prompt_number": 620
    },
    {
     "cell_type": "code",
     "collapsed": false,
     "input": [
      "lr_lda.score(labeled_probas_test,y_comb_test)"
     ],
     "language": "python",
     "metadata": {},
     "outputs": [
      {
       "metadata": {},
       "output_type": "pyout",
       "prompt_number": 621,
       "text": [
        "0.73126614987080107"
       ]
      }
     ],
     "prompt_number": 621
    },
    {
     "cell_type": "code",
     "collapsed": false,
     "input": [
      "#tfidf = TfidfVectorizer(max_features=10000,stop_words=set(stopwords.words()))\n",
      "tfidf = TfidfVectorizer(stop_words=set(stopwords.words()))\n",
      "tfidf_t = tfidf.fit_transform(X) #' '.join(x) for x in X)"
     ],
     "language": "python",
     "metadata": {},
     "outputs": [],
     "prompt_number": 622
    },
    {
     "cell_type": "code",
     "collapsed": false,
     "input": [
      "tfidf_t_train = tfidf_t[idx]\n",
      "tfidf_t_test = tfidf_t[~idx]\n",
      "y_bug_train = y_bug[idx]\n",
      "y_bug_test = y_bug[~idx]\n",
      "y_feature_train = y_feature[idx]\n",
      "y_feature_test = y_feature[~idx]\n",
      "#y_documentation_train = y_documentation[idx]\n",
      "#y_documentation_test = y_documentation[~idx]\n",
      "\n",
      "#y_comb = np.argmax(np.hstack((np.zeros((len(y_feature),1)),y_feature.reshape(-1,1), y_bug.reshape(-1,1))),axis=1)\n",
      "y_comb = np.argmax(np.hstack((y_feature.reshape(-1,1), y_bug.reshape(-1,1))),axis=1)\n",
      "y_comb_train = y_comb[idx]\n",
      "y_comb_test = y_comb[~idx]"
     ],
     "language": "python",
     "metadata": {},
     "outputs": [],
     "prompt_number": 623
    },
    {
     "cell_type": "code",
     "collapsed": false,
     "input": [
      "lr_bug = LogisticRegression()\n",
      "lr_bug.fit(tfidf_t_train, y_bug_train)\n",
      "print confusion_matrix(lr_bug.predict(tfidf_t_test),y_bug_test)\n",
      "print f1_score(lr_bug.predict(tfidf_t_test),y_bug_test)"
     ],
     "language": "python",
     "metadata": {},
     "outputs": [
      {
       "output_type": "stream",
       "stream": "stdout",
       "text": [
        "[[106  27]\n",
        " [110 531]]\n",
        "0.885738115096\n"
       ]
      }
     ],
     "prompt_number": 692
    },
    {
     "cell_type": "code",
     "collapsed": false,
     "input": [
      "lr_feature = LogisticRegression()\n",
      "lr_feature.fit(tfidf_t_train, y_feature_train)\n",
      "print confusion_matrix(lr_feature.predict(tfidf_t_test),y_feature_test)\n",
      "print f1_score(lr_feature.predict(tfidf_t_test),y_feature_test)"
     ],
     "language": "python",
     "metadata": {},
     "outputs": [
      {
       "output_type": "stream",
       "stream": "stdout",
       "text": [
        "[[531 110]\n",
        " [ 27 106]]\n",
        "0.607449856734\n"
       ]
      }
     ],
     "prompt_number": 625
    },
    {
     "cell_type": "code",
     "collapsed": false,
     "input": [
      "len(y_bug == y_feature)"
     ],
     "language": "python",
     "metadata": {},
     "outputs": [
      {
       "metadata": {},
       "output_type": "pyout",
       "prompt_number": 626,
       "text": [
        "4091"
       ]
      }
     ],
     "prompt_number": 626
    },
    {
     "cell_type": "code",
     "collapsed": false,
     "input": [
      "model = Word2Vec(sentences_for_word2vec, size=100, window=5, min_count=5, workers=4)\n",
      "#\n",
      "best_centroids = None\n",
      "best_score = None\n",
      "for _ in xrange(10):\n",
      "  km = Kmeans(500)\n",
      "  km.fit(model.syn0)\n",
      "  score = km.compute_sse(model.syn0)\n",
      "  if best_score is None or score < best_score:\n",
      "        best_score = score\n",
      "        best_centroids = km.centroids\n",
      "km.centroids = best_centroids\n",
      "#\n",
      "distances = np.array(km.calc_distances(model.syn0))\n",
      "b = distances == np.min(distances,axis=0)\n",
      "#word_features = np.hstack((np.array(distances).T,b.T * 1))\n",
      "cluster_distances = np.array(distances).T\n",
      "closest_clusters = b.T * 1\n",
      "#\n",
      "X_kmeans = []\n",
      "X_kmeans_dist = []\n",
      "X_kmeans_closest = []\n",
      "revdict = {w: i for i,w in enumerate(model.index2word)}\n",
      "for doc in X:\n",
      "    x_dists = np.zeros(len(cluster_distances[0]))\n",
      "    x_closest = np.zeros(len(closest_clusters[0]))\n",
      "    count = 0\n",
      "    for word in doc.split():\n",
      "      if word in revdict:\n",
      "        count += 1\n",
      "        x_dists = x_dists + cluster_distances[revdict[word]]\n",
      "        x_closest = x_closest + closest_clusters[revdict[word]]\n",
      "    if count > 0:\n",
      "      x_dists = x_dists / count\n",
      "      x_closest = x_closest / count\n",
      "    X_kmeans.append(np.hstack((x_dists,x_closest)))\n",
      "    X_kmeans_dist.append(x_dists)\n",
      "    X_kmeans_closest.append(x_closest)\n",
      "#\n",
      "X_kmeans = np.array(X_kmeans)\n",
      "X_kmeans_dist = np.array(X_kmeans_dist)\n",
      "X_kmeans_closest = np.array(X_kmeans_closest)\n",
      "#\n",
      "X_kmeans_train = X_kmeans[idx]\n",
      "X_kmeans_test = X_kmeans[~idx]\n",
      "\n",
      "X_kmeans_dist_train = X_kmeans_dist[idx]\n",
      "X_kmeans_dist_test = X_kmeans_closest[~idx]\n",
      "\n",
      "X_kmeans_closest_train = X_kmeans_closest[idx]\n",
      "X_kmeans_closest_test = X_kmeans_closest[~idx]\n",
      "#\n",
      "#words_by_importance = np.argsort(tfidf_t.sum(axis=0))[::-1]\n",
      "#tfidf_revdict = {v: k for k, v in tfidf.vocabulary_.iteritems()}\n",
      "#word_clusters = [[],[],[],[],[]]\n",
      "#for i in words_by_importance:\n",
      "#    word_clusters[closest_clusters[revdict[tfidf_revdict[i]]]].append(i)"
     ],
     "language": "python",
     "metadata": {},
     "outputs": [],
     "prompt_number": 686
    },
    {
     "cell_type": "code",
     "collapsed": false,
     "input": [
      "lr_kmeans = LogisticRegression()\n",
      "lr_kmeans.fit(X_kmeans_train,y_comb_train)\n",
      "lr_kmeans.score(X_kmeans_test,y_comb_test)\n",
      "print 'confusion mat', confusion_matrix(lr_kmeans.predict(X_kmeans_test),y_comb_test)\n",
      "print 'f1 score', f1_score(lr_kmeans.predict(X_kmeans_test),y_comb_test)"
     ],
     "language": "python",
     "metadata": {},
     "outputs": [
      {
       "output_type": "stream",
       "stream": "stdout",
       "text": [
        "confusion mat [[128  36]\n",
        " [ 88 522]]\n",
        "f1 score 0.893835616438\n"
       ]
      }
     ],
     "prompt_number": 687
    },
    {
     "cell_type": "code",
     "collapsed": false,
     "input": [
      "lr_in_bug_feature_test = np.hstack((\n",
      "                           np.ones(len(idx) - idx.sum()).reshape(-1,1),\n",
      "                           #lr_bug.predict(tfidf_t_test).reshape(-1,1),\n",
      "                           lr_feature.predict_log_proba(tfidf_t_test)[:,0].reshape(-1,1),\n",
      "                           #lr_lda.predict_proba(labeled_probas_test)[:,0].reshape(-1,1),\n",
      "                           lr_kmeans.predict_log_proba(X_kmeans_test)[:,0].reshape(-1,1)\n",
      "                           ))\n",
      "lr_in_bug_feature_train = np.hstack((\n",
      "                              np.ones(idx.sum()).reshape(-1,1),\n",
      "                              #lr_bug.predict(tfidf_t_train).reshape(-1,1),\n",
      "                              lr_feature.predict_log_proba(tfidf_t_train)[:,0].reshape(-1,1),\n",
      "                              #lr_lda.predict_proba(labeled_probas_train)[:,0].reshape(-1,1),\n",
      "                              lr_kmeans.predict_log_proba(X_kmeans_train)[:,0].reshape(-1,1)\n",
      "                              ))"
     ],
     "language": "python",
     "metadata": {},
     "outputs": [],
     "prompt_number": 695
    },
    {
     "cell_type": "code",
     "collapsed": false,
     "input": [
      "lr = LogisticRegression()\n",
      "#rf = RandomForestClassifier(n_estimators=5000,n_jobs=-1)\n",
      "lr.fit(lr_in_bug_feature_train,y_bug_train)\n",
      "#rf.fit(lr_in_bug_feature_train,y_bug_train)\n",
      "print 'lr:'\n",
      "print confusion_matrix(lr.predict(lr_in_bug_feature_test),y_bug_test)\n",
      "print f1_score(lr.predict(lr_in_bug_feature_test),y_bug_test)\n",
      "#print 'rf:'\n",
      "#print confusion_matrix(rf.predict(lr_in_bug_feature_test),y_comb_test)\n",
      "#print f1_score(rf.predict(lr_in_bug_feature_test),y_comb_test)"
     ],
     "language": "python",
     "metadata": {},
     "outputs": [
      {
       "output_type": "stream",
       "stream": "stdout",
       "text": [
        "lr:\n",
        "[[129  34]\n",
        " [ 87 524]]\n",
        "0.896492728828\n"
       ]
      }
     ],
     "prompt_number": 696
    },
    {
     "cell_type": "code",
     "collapsed": false,
     "input": [],
     "language": "python",
     "metadata": {},
     "outputs": [],
     "prompt_number": 273
    },
    {
     "cell_type": "code",
     "collapsed": false,
     "input": [
      "model.most_similar('bug')"
     ],
     "language": "python",
     "metadata": {},
     "outputs": [
      {
       "metadata": {},
       "output_type": "pyout",
       "prompt_number": 646,
       "text": [
        "[(u'fix', 0.6516544818878174),\n",
        " (u'annoy', 0.6196231842041016),\n",
        " (u'typo', 0.6094411015510559),\n",
        " (u'weird', 0.6003035306930542),\n",
        " (u'hope', 0.597614586353302),\n",
        " (u'believ', 0.5946377515792847),\n",
        " (u'serious', 0.5938748717308044),\n",
        " (u'unfortun', 0.5925922989845276),\n",
        " (u'question', 0.5889861583709717),\n",
        " (u'compli', 0.5882337093353271)]"
       ]
      }
     ],
     "prompt_number": 646
    },
    {
     "cell_type": "code",
     "collapsed": false,
     "input": [],
     "language": "python",
     "metadata": {},
     "outputs": [],
     "prompt_number": 275
    },
    {
     "cell_type": "code",
     "collapsed": false,
     "input": [
      "from j_kmeans import Kmeans\n",
      "model = Word2Vec(sentences_for_word2vec, size=100, window=5, min_count=5, workers=4)\n",
      "print model.most_similar(['featur'])\n",
      "print model.most_similar(['bug'])\n",
      "from j_kmeans import Kmeans\n",
      "scores = []\n",
      "for i in xrange(1,20,1):\n",
      "  km = Kmeans(i)\n",
      "  km.fit(model.syn0)\n",
      "  scores.append(km.compute_sse(model.syn0))\n",
      "plt.plot(range(1,20,1),scores)"
     ],
     "language": "python",
     "metadata": {},
     "outputs": [
      {
       "output_type": "stream",
       "stream": "stdout",
       "text": [
        "[(u'submit', 0.7129209637641907), (u'implement', 0.629793643951416), (u'love', 0.6029578447341919), (u'separ', 0.595819354057312), (u'doabl', 0.5912212133407593), (u'incom', 0.5909298062324524), (u'unintent', 0.5904408693313599), (u'consider', 0.5831252932548523), (u'propos', 0.5831141471862793), (u'headach', 0.5825399160385132)]\n",
        "[(u'hope', 0.6522952318191528), (u'unfortun', 0.6360049247741699), (u'pr', 0.6258717775344849), (u'issu', 0.6244075298309326), (u'jacksontj', 0.6197577714920044), (u'wrong', 0.6161565780639648), (u'opinion', 0.6126868724822998), (u'somewhat', 0.6076629161834717), (u'approach', 0.6033492684364319), (u'broken', 0.6029408574104309)]\n"
       ]
      },
      {
       "metadata": {},
       "output_type": "pyout",
       "prompt_number": 285,
       "text": [
        "[<matplotlib.lines.Line2D at 0x7fbd616d3810>]"
       ]
      },
      {
       "metadata": {},
       "output_type": "display_data",
       "png": "[encoded data removed]",
       "text": [
        "<matplotlib.figure.Figure at 0x7fbd625a5950>"
       ]
      }
     ],
     "prompt_number": 285
    },
    {
     "cell_type": "code",
     "collapsed": false,
     "input": [
      "model = Word2Vec(sentences_for_word2vec, size=100, window=5, min_count=5, workers=4)\n",
      "#\n",
      "best_centroids = None\n",
      "best_score = None\n",
      "for _ in xrange(10):\n",
      "  km = Kmeans(100)\n",
      "  km.fit(model.syn0)\n",
      "  score = km.compute_sse(model.syn0)\n",
      "  if best_score is None or score < best_score:\n",
      "        best_score = score\n",
      "        best_centroids = km.centroids\n",
      "km.centroids = best_centroids\n",
      "#\n",
      "distances = np.array(km.calc_distances(model.syn0))\n",
      "b = distances == np.min(distances,axis=0)\n",
      "#word_features = np.hstack((np.array(distances).T,b.T * 1))\n",
      "cluster_distances = np.array(distances).T\n",
      "closest_clusters = b.T * 1\n",
      "#\n",
      "X_kmeans = []\n",
      "X_kmeans_dist = []\n",
      "X_kmeans_closest = []\n",
      "revdict = {w: i for i,w in enumerate(model.index2word)}\n",
      "for doc in X:\n",
      "    x_dists = np.zeros(len(cluster_distances[0]))\n",
      "    x_closest = np.zeros(len(closest_clusters[0]))\n",
      "    count = 0\n",
      "    for word in doc.split():\n",
      "      if word in revdict:\n",
      "        count += 1\n",
      "        x_dists = x_dists + cluster_distances[revdict[word]]\n",
      "        x_closest = x_closest + closest_clusters[revdict[word]]\n",
      "    if count > 0:\n",
      "      x_dists = x_dists / count\n",
      "      x_closest = x_closest / count\n",
      "    X_kmeans.append(np.hstack((x_dists,x_closest)))\n",
      "    X_kmeans_dist.append(x_dists)\n",
      "    X_kmeans_closest.append(x_closest)\n",
      "#\n",
      "X_kmeans = np.array(X_kmeans)\n",
      "X_kmeans_dist = np.array(X_kmeans_dist)\n",
      "X_kmeans_closest = np.array(X_kmeans_closest)\n",
      "#\n",
      "X_kmeans_train = X_kmeans[idx]\n",
      "X_kmeans_test = X_kmeans[~idx]\n",
      "\n",
      "X_kmeans_dist_train = X_kmeans_dist[idx]\n",
      "X_kmeans_dist_test = X_kmeans_closest[~idx]\n",
      "\n",
      "X_kmeans_closest_train = X_kmeans_closest[idx]\n",
      "X_kmeans_closest_test = X_kmeans_closest[~idx]\n",
      "#\n",
      "lr_kmeans = LogisticRegression()\n",
      "lr_kmeans.fit(X_kmeans_closest_train,y_comb_train)\n",
      "lr_kmeans.score(X_kmeans_closest_test, y_comb_test)\n",
      "\n",
      "print 'confusion mat', confusion_matrix(lr_kmeans.predict(X_kmeans_closest_test),y_comb_test)\n",
      "print 'f1 score', f1_score(lr_kmeans.predict(X_kmeans_closest_test),y_comb_test)"
     ],
     "language": "python",
     "metadata": {},
     "outputs": [
      {
       "output_type": "stream",
       "stream": "stdout",
       "text": [
        "confusion mat [[ 85  27]\n",
        " [131 531]]\n",
        "f1 score 0.870491803279\n"
       ]
      }
     ],
     "prompt_number": 671
    },
    {
     "cell_type": "code",
     "collapsed": false,
     "input": [
      "X_kmeans_closest.sum(axis=0)"
     ],
     "language": "python",
     "metadata": {},
     "outputs": [
      {
       "metadata": {},
       "output_type": "pyout",
       "prompt_number": 673,
       "text": [
        "array([  1.75379873e+01,   3.84292980e+01,   5.91518367e+01,\n",
        "         5.05705090e+00,   1.13453495e+02,   1.35832549e+01,\n",
        "         1.23054637e+01,   4.36775816e+00,   1.71934521e+01,\n",
        "         6.79702178e+00,   3.74256952e+01,   2.80683290e+02,\n",
        "         8.79083211e+01,   5.85769022e+00,   2.81388689e+01,\n",
        "         4.36696343e+01,   3.79028121e+01,   2.14546681e+01,\n",
        "         4.00682808e+01,   1.87233606e+01,   1.45792481e+01,\n",
        "         2.74778321e+01,   1.16248463e+01,   1.21954534e+01,\n",
        "         6.62952264e+00,   2.40090869e+01,   5.74273209e+01,\n",
        "         4.65532834e+02,   2.01842713e+01,   2.28683879e+02,\n",
        "         3.64771066e+00,   4.27115001e+00,   3.46094345e+01,\n",
        "         3.60222554e+01,   1.94917673e+02,   1.17915233e+01,\n",
        "         1.69667611e+02,   1.36876402e+01,   1.61211482e+01,\n",
        "         8.42050179e+01,   1.26022656e+01,   1.99102700e+01,\n",
        "         1.21354692e+01,   7.33768569e+00,   4.73623684e+00,\n",
        "         2.18692572e+02,   1.37946650e+01,   2.58258630e+01,\n",
        "         2.48146036e+01,   1.16198398e+02,   2.49941053e+01,\n",
        "         3.45992556e+00,   6.17185965e+00,   3.20960986e+00,\n",
        "         2.32852256e+01,   1.03944686e+01,   3.65771501e+01,\n",
        "         9.81522602e+01,   1.81311975e+01,   1.48274691e+01,\n",
        "         1.85158502e+01,   4.78471009e+01,   4.37227647e+01,\n",
        "         8.29862878e+01,   1.73656103e+01,   2.06222521e+00,\n",
        "         1.62169280e+01,   5.47929353e+01,   4.23472251e+00,\n",
        "         1.74941793e+01,   4.02101663e-01,   2.06099880e+01,\n",
        "         1.23540529e+01,   4.30983542e+01,   1.06621254e+01,\n",
        "         3.51681591e+01,   1.95473099e+01,   4.27286555e+01,\n",
        "         2.56079590e+01,   1.97430419e+01,   2.11578793e+01,\n",
        "         4.25100293e+01,   4.33549378e+00,   3.69905685e+01,\n",
        "         5.42189212e+01,   1.33014274e+01,   8.16270303e+00,\n",
        "         9.83766303e+00,   1.10735408e+02,   2.88573785e+01,\n",
        "         8.52394910e+00,   1.06576498e+01,   5.45735517e+01,\n",
        "         1.35194065e+01,   6.31920328e+01,   8.08994311e+00,\n",
        "         2.02409198e+01,   1.14886255e+01,   6.03614414e+00,\n",
        "         7.16395508e+00])"
       ]
      }
     ],
     "prompt_number": 673
    },
    {
     "cell_type": "code",
     "collapsed": false,
     "input": [
      "np.argsort(tfidf_t)"
     ],
     "language": "python",
     "metadata": {},
     "outputs": [
      {
       "metadata": {},
       "output_type": "pyout",
       "prompt_number": 674,
       "text": [
        "0"
       ]
      }
     ],
     "prompt_number": 674
    },
    {
     "cell_type": "code",
     "collapsed": false,
     "input": [
      "words_by_importance = np.array(np.argsort(tfidf_t.sum(axis=0)))[::-1]\n",
      "tfidf_revdict = {v: k for k, v in tfidf.vocabulary_.iteritems()}\n",
      "word_clusters = [[] for _ in xrange(len(km.centroids))]\n",
      "for i in words_by_importance[0]:\n",
      "    try:\n",
      "      word_clusters[np.argsort(closest_clusters[revdict[tfidf_revdict[i]]])[-1]].append(tfidf_revdict[i])\n",
      "    except:\n",
      "      pass"
     ],
     "language": "python",
     "metadata": {},
     "outputs": [],
     "prompt_number": 675
    },
    {
     "cell_type": "code",
     "collapsed": false,
     "input": [
      "for i,x in enumerate(word_clusters):\n",
      "    for word in ['bug','fix','annoy','typo','featur']:\n",
      "        if word in x:\n",
      "            print word, i\n",
      "    print x[:10]"
     ],
     "language": "python",
     "metadata": {},
     "outputs": [
      {
       "output_type": "stream",
       "stream": "stdout",
       "text": [
        "[u'autosummari', u'vagrantfil', u'homepag', u'hb', u'influxdb', u'gravyboat', u'board', u'pkgbuild', u'organ', u'mei']\n",
        "[u'xferd', u'install_ubuntu_st', u'install_ubuntu_restart_daemon', u'activemq', u'install_ubuntu_dep', u'dregex_numbfregex_numaregex_numbregex_numfdregex_numcregex_numbregex_numdregex_numeregex_numdbbd', u'usernameregex_num', u'jiraus', u'pg_ctl', u'nxlog']\n",
        "[u'sls_list', u'mycustomgrain', u'get_base_info', u'empty_st', u'base_us', u'dupe_data', u'subfilt', u'someappregex_num', u'pillar_dir', u'user_hom']\n",
        "[u'hehe', u'collectd', u'tree', u'project', u'build', u'depend']\n",
        "[u'mileston', u'config_hostnam', u'change_hostnam', u'show_highst', u'outputt', u'sync', u'complet', u'inform', u'request', u'log']\n",
        "[u'toex', u'logdictregex_num', u'_modulesregex_pyfilei', u'pyi', u'regex_pyfilei', u'pyz', u'teamviewer_linux', u'toc', u'iiscmd', u'iiscmd_']\n",
        "[u'current_umask', u'env_var', u'clean_env', u'st_gid', u'java_hom', u'abspath', u'include_config', u'triplet', u'close_fd', u'_check_regex_num']\n",
        "[u'archregex_num', u'in_subnet', u'ypbind', u'bs', u'biosreleased', u'oraintegrationregex_num', u'hostid', u'atg', u'fbsd', u'exit_status']\n",
        "[u'assertequ', u'deprecationwarn', u'let', u'deprec', u'pleas', u'know']\n",
        "[u'regex_numalpha', u'dfsgregex_num', u'regex_numdsf', u'libuuidregex_num', u'libxauregex_num', u'libxcbregex_num', u'libxdamageregex_num', u'libxextregex_num', u'libxfixesregex_num', u'libiceregex_num']\n",
        "[u'spectr', u'vboxsf', u'swappi', u'cloud_provid', u'my_us', u'testxx', u'remoteus', u'wwwregex_num', u'hid', u'testxi']\n",
        "[u'nfsiod', u'rpciod', u'cdrom', u'kpsmous', u'dio', u'unwrit', u'khungtaskd', u'bdi', u'kthrotld', u'kthreadd']\n",
        "[u'packb', u'bdist_eski', u'unpackb', u'argpars', u'msgpack_pur', u'paramiko', u'bbfreez', u'pack', u'_pack', u'_unpack']\n",
        "[u'regex_numeregex_numfregex_numfregex_numeregex_numeregex_numaregex_numaregex_numcregex_numeregex_numcregex_numdregex_numfregex_numaaregex_numbregex_num', u'aeeregex_numdregex_numdregex_numcferegex_numbfregex_numdregex_numdregex_numdcdaregex_numfadcaregex_numcregex_numeregex_numebbregex_numcregex_numfregex_numfcregex_numcdregex_num', u'eregex_numcregex_numfregex_numbregex_numferegex_numeregex_numaregex_numacregex_numaeregex_numdregex_numddregex_numaregex_numeregex_numbregex_numfbregex_numabregex_num', u'aeregex_numfregex_numffregex_numbregex_numaregex_numaaregex_numfregex_numeregex_numcregex_numdcafaregex_numfregex_numeregex_numbregex_numeregex_numfregex_numea', u'regex_numearegex_numcregex_numaregex_numfregex_numbregex_numbregex_numaecregex_numbregex_numdregex_numfregex_numbaregex_numdregex_numdregex_numeregex_numcregex_num', u'regex_numaacaregex_numdregex_numffregex_numcdregex_numbregex_numdregex_numdregex_numdregex_numedregex_numab', u'regex_numeeregex_numbregex_numceregex_numfregex_numdregex_numdregex_numdregex_numbregex_numeregex_numcregex_numcfcregex_numaregex_numebaregex_numedregex_numf', u'regex_numcregex_numbregex_numaregex_numeregex_numdregex_numaeregex_numadregex_numdregex_numfregex_numfregex_numdregex_numbregex_numeregex_numfregex_numfregex_numbaregex_numbcregex_numderegex_numd', u'regex_numdbregex_numaeregex_numdregex_numbregex_numeaebregex_numbafregex_numeregex_numdregex_numffregex_numbregex_numbregex_numabregex_numfregex_numeregex_numf', u'regex_numfregex_numdabcdaregex_numcregex_numcregex_numafregex_numedregex_numaeregex_numcregex_numeregex_numaregex_numderegex_numcregex_numedfcdcregex_numbregex_numcaregex_num']\n",
        "[u'bulk', u'auth_key', u'ate', u'pg_config', u'logstash_udp_handl', u'materi', u'gitfs_bas', u'ssh_keyfil', u'leftov', u'win_instal']\n",
        "[u'pypa', u'gevent', u'comregex_pyfilezmq', u'identity_url', u'fabric', u'rackspacecloud', u'pillarregex_num', u'jira', u'wayneeseguin', u'code_']\n",
        "[u'external_nod', u'diagnost', u'overview', u'urllib', u'bother', u'struggl', u'untouch', u'tonight', u'show_timeout', u'decis']\n",
        "[u'refspec', u'remote_rev', u'reiniti', u'hedg', u'install_typ', u'swp', u'south', u'current_branch', u'fileserver_backend', u'upstream']\n",
        "[u'laracroft', u'grain_pcr', u'cassregex_num', u'prodenv_code_is_write_protect', u'service_group', u'meta', u'get_or_set_hash', u'setval', u'matcher', u'structur']\n",
        "[u'acd', u'pkts', u'goto', u'fz', u'prot', u'finsynrstack', u'prohibit', u'qaregex_num', u'prerout', u'icmp']\n",
        "[u'succes', u'ov', u'ts', u'access_ip', u'hyphen', u'vlan', u'administ', u'price', u'qualifi', u'recip']\n",
        "[u'max_open_fil', u'perspect', u'provision', u'ssh_gateway', u'apart', u'excerpt', u'dns_check', u'truth', u'ipc_mod', u'road']\n",
        "[u'doctre', u'yaml_data', u'get_yaml_load', u'tmp_data', u'process_high_data', u'newfil', u'arglin', u'mret', u'dbc', u'rendered_sl']\n",
        "[u'qo', u'esclocregex_num', u'nsn', u'eecloud', u'walrus', u'enterprise_regex_num', u'regex_num_xregex_num_regex_num', u'distfil', u'famillecollet', u'debuginfo']\n",
        "[u'setsockopt', u'get_server_id', u'_poll', u'sock_stream', u'epub_uri', u'_send_copi', u'pythonvers', u'saltpath', u'regex_numxregex_numbregex_num', u'fqdn_ipregex_num']\n",
        "[u'ray', u'phone', u'middlewar', u'ultrascan', u'ogc', u'uregex_num', u'hpi', u'scr', u'roomnumb', u'dave']\n",
        "fix 26\n",
        "[u'holmbo', u'remedi', u'regex_nummin', u'yeah', u'beat', u'colton', u'atleast', u'loss', u'briefli', u'stupid']\n",
        "[u'harm', u'eexist', u'impress', u'mtag', u'everytim', u'dont', u'cant', u'perfect', u'wonder', u'won']\n",
        "[u'connectionerror', u'sugar', u'regex_numxcb', u'keyboardinterrupt', u'rsplit', u'expaterror', u'overflowerror', u'scalar', u'regex_numxcregex_num', u'rsaerror']\n",
        "[u'heterogen', u'principl', u'reproduct', u'reusabl', u'span', u'rational', u'spend', u'strategi', u'stdio', u'fan']\n",
        "[u'ureadahead', u'ieee', u'kerbero', u'theme', u'cairo', u'ipmitool', u'expat', u'cryptographi', u'gmp', u'fakeroot']\n",
        "[u'winapi', u'instancest', u'xxxxxxxxxxxxxxxxxxxxxxxxxxx', u'o_rdon', u'bfregex_numd', u'regex_numfpypi', u'februari', u'dd', u'regex_numfaregex_num', u'bookit']\n",
        "[u'build_tool', u'pymongo', u'mri', u'nscd', u'libnss', u'virtualenvwrapp', u'mailutil', u'ssmtp', u'bzipregex_num', u'autoconf']\n",
        "[u'tenantid', u'baseregex_num_decodestr', u'unsubscript', u'custom_modul', u'regex_numxregex_numfregex_num', u'rootf', u'winregex_numkregex_num', u'get_fqhostnam', u'ipython', u'saltrendererror']\n",
        "[u'dynload', u'_available_servic', u'srcinfo', u'pkgmeta_nam', u'pkgmeta_vers', u'deploy_command', u'_get_client', u'_verify_binary_pkg', u'parse_target', u'hostdata']\n",
        "[u'add_implicit_requir', u'manage_mod', u'rostermatch', u'nestdisplay', u'overstatestag', u'locale_info', u'no_return', u'stringio', u'virt_queri', u'flat']\n",
        "featur 36\n",
        "[u'insight', u'worthwhil', u'solid', u'eleg', u'boil', u'fantast', u'basepkg', u'straightforward', u'curious', u'doabl']\n",
        "[u'beregex_num', u'nf_defrag_ipvregex_num', u'dhclient', u'ecregex_num_loc', u'regex_nummvmxnetregex_num', u'nf_conntrack_ipvregex_num', u'txqueuelen', u'encap', u'userctl', u'noqueu']\n",
        "[u'xvda', u'nfsclient', u'nfsnode', u'download_path', u'monitoringregex_num', u'phpepl', u'buildmast', u'appnod', u'dflume', u'toolchain']\n",
        "[u'os_mon', u'req_', u'fail_', u'port_bind', u'make_mast', u'apacheregex_num_', u'jthomason', u'replica', u'appnam', u'ferm']\n",
        "[u'preciseregex_pyfilethon', u'ign', u'redistribut', u'translationindex', u'nerr', u'multivers', u'nw', u'regex_numkb', u'inreleas', u'exampleregex_num']\n",
        "[u'sudo_arthur', u'a_nosql', u'full_data', u'revoke_auth', u'tmregex_num', u'get_rul', u'sudo_administr', u'socketstream', u'fooregex_num', u'my_serv']\n",
        "[u'memoryerror', u'request_inst', u'yaml_jinja', u'acceptance_wait_tim', u'permissive_pki_access', u'master_port', u'ex_mod_init', u'lusr', u'eoferror', u'_service_is_upstart']\n",
        "[u'aptitud', u'corey', u'iftop', u'chkconfig', u'confdef', u'showformat', u'vendor', u'rsyslog', u'confold', u'reconfigur']\n",
        "[u'ubregex_numtestvmregex_num', u'normalregex_num', u'role_nam', u'regex_numccregex_numeregex_num', u'centosregex_numtestvmregex_num', u'ursa', u'hv', u'deregex_num', u'fcregex_numtestvmregex_num', u'preseed']\n",
        "[u'timeout_at', u'minion_on', u'orch', u'outag', u'fourth', u'sender', u'lvdisplay', u'swindl', u'idl', u'multithread']\n",
        "[u'mytest', u'erik', u'workspac', u'mp_salt', u'newid', u'abuild', u'rpmbuild', u'envregex_numregex_pyfilethonregex_num', u'get_selinux_context', u'sontek']\n",
        "[u'bash_complet', u'classregex_num', u'gunicorn', u'bird', u'x_common', u'dnsmasq', u'eximregex_num', u'sasl_passwd', u'instanceregex_num', u'charset']\n",
        "[u'dockerregex_num', u'transmit', u'jid_includ', u'downgrad', u'refus', u'permit', u'prior', u'sent', u'retri', u'continu']\n",
        "[u'cytest', u'_modulesregex_pyfilec', u'test_depend', u'testenv', u'ldebug', u'localdev', u'_outputt', u'_modulesregex_pyfil', u'regex_pyfileo', u'module_refresh']\n",
        "[u'minions_pr', u'ttdvknxqregex_numssregex_num', u'zki', u'iqrregex_numgzpdtiqkxrpvm', u'utyekxregex_numjtcnregex_numri', u'wvivibnfxkregex_numnregex_numdregex_numxpahghzwasregex_numzdcqr', u'ohgiregex_numzrjregex_numsuhotognlregex_numsukregex_nummfvca', u'nnkodbatdzkplqbregex_numwjregex_numyregex_numngregex_numtplregex_numtregex_numonregex_numgregex_numnqictaqyaregex_numtusdwh', u'nregex_numadzmseogmnbatbdwtgregex_numhjzregex_numbpyypmregex_numhrbivkzregex_numnkdsp', u'nnregex_numzaregex_numtkoqnregex_numxkregex_numbgxntgdulhuogpqsmdmregex_numkatdubftgcuaregex_numenholwcroywqvndz']\n",
        "[u'runinst', u'aregex_numa', u'regex_numfsourc', u'regex_numfpackag', u'dmi', u'fr_fr', u'tcontext', u'anon_inodefs_t', u'scontext', u'ifconfig_t']\n",
        "[u'regex_numwheezyregex_num', u'debregex_num', u'dtd', u'mib', u'bcast', u'mongodb_regex_num', u'cet', u'seq', u'serialnumb', u'xaregex_numdata']\n",
        "[u'dependency_link', u'trunk', u'ryanwinregex_num', u'vizier', u'arnold', u'binscript', u'perf', u'readm', u'run_stderr', u'fatbox']\n",
        "[u'ipvregex_num_mgmt', u'cstringio', u'stringi', u'modulus', u'new_fil', u'struct_passwd', u'ends_with', u'masterapi', u's_dec', u'intercept']\n",
        "[u'blackhol', u'tl', u'maco', u'boom', u'rh', u'rhn', u'french', u'dll', u'linux_distribut', u'vcredist_xregex_num']\n",
        "[u'include_pat', u'src_newlin', u'squish', u'versionregex_num', u'abcregex_num', u'cms', u'dss', u'bla', u'constructionsit', u'somefil']\n",
        "[u'tous', u'_get_virtu', u'default_path', u'revok', u'nameserv', u'keystor', u'wheelclient', u'splay', u'check_cmd', u'overwrit']\n",
        "[u'rebalanc', u'vixi', u'unchang', u'ms', u'stderr', u'succeed', u'total', u'summari', u'stdout', u'retcod']\n",
        "[u'lsmod', u'regex_numxregex_numeregex_num', u'owner_to', u'modprob', u'no_chown', u'allow_failur', u'db_list', u'db_exist', u'setenforc', u'is_instal']\n",
        "[u'productnam', u'mxcl', u'supp', u'certtool', u'kit', u'valgrind', u'system_profil', u'rabbit', u'catalina', u'plutil']\n",
        "[u'saltcloudmod', u'win_ip', u'win_timezon', u'win_autorun', u'darwin_sysctl', u'osxdesktop', u'win_ntp', u'win_status', u'win_disk', u'win_shadow']\n",
        "[u'fedoraregex_num', u'ownerid', u'defined_only_in_glob', u'defined_in_both_global_and_region', u'defined_only_in_region', u'primecoin', u'sumolog', u'eregex_numdregex_numfregex_num', u'lonregex_num', u'sydregex_num']\n",
        "[u'saltbox', u'diff_mtime_map', u'regex_numxregex_numaregex_numeregex_num', u'saltstackdev', u'aws_minion', u'sce', u'run_parallel_map_providers_queri', u'linodetestregex_num', u'saltify_provid', u'botocor']\n",
        "[u'get_jid', u'gitignor', u'terminolog', u'cobbler', u'rc_status', u'survey', u'mtime_map', u'varnish', u'prepend_if_not_found', u'minionf']\n",
        "[u'bts', u'ida', u'vme', u'dts', u'pge', u'rdtscp', u'mca', u'mce', u'mtrr', u'pse']\n",
        "[u'quote_id', u'mysql_password', u'plaintext', u'passport_qa', u'wild', u'your_db_her', u'passwordregex_num', u'connection_host', u'mdi', u'middleware_serv']\n",
        "[u'awsregex_num_minion', u'vmmregex_num', u'winpython', u'salt_vers', u'testbox', u'dlanderson', u'coderegex_num', u'win_unzip', u'squishlicens', u'adminaddr']\n",
        "[u'qp', u'watchdox', u'rpm_check_debug', u'pytz', u'whatprovid', u'zypp', u'colorama', u'charlock_holm', u'protectbas', u'rdoc']\n",
        "[u'fd_', u'searchpackag', u'get_nod', u'node_data', u'_get_cached_requir', u'get_file_str', u'build_interfac', u'cache_dir', u'vm_name', u'setup_kwarg']\n",
        "[u'clemson', u'bc', u'delete_key', u'acc', u'edu', u'vps', u'temp']\n",
        "[u'bio', u'pkgsack', u'get_config_file_path', u'constructor', u'decrypt_a', u'wb', u'parm', u'compile_high_data', u'send_auto', u'raw_decod']\n",
        "[u'stime', u'crontest', u'csh', u'tmpzxjaak', u'searegex_numspxregex_num', u'ppid', u'maci', u'spool', u'start_ag', u'mastermast']\n",
        "[u'controlpersist', u'ipvregex_num', u'interfac', u'node', u'defin', u'machin', u'network', u'target', u'updat', u'config']\n",
        "[u'ring', u'qpi', u'thermal', u'bottl', u'unicast', u'fin', u'swiss', u'dual', u'cpu_model', u'armi']\n",
        "[u'eventdata', u'jobcach', u'get_iter_return', u'get_return', u'new_job', u'handle_func', u'minion_start', u'get_ev', u'fire_mast', u'token']\n",
        "[u'enoent', u'usedn', u'connecttimeout', u'lc_', u'datestyl', u'forcecommand', u'cvs', u'get_ip', u'testutil', u'permitrootlogin']\n",
        "[u'saltssh', u'hashlib', u'urlpars', u'get_imag', u'list_nodes_ful', u'_run_check', u'ip_address', u'osdata', u'nb_popen', u'rest_tornado']\n",
        "[u'endless', u'percent', u'enclos', u'tmp_dir', u'cast', u'salt_return', u'throughout', u'fullvers', u'basestr', u'brace']\n",
        "[u'lv', u'uncommon', u'virsh', u'buggi', u'samba', u'default_includ', u'carri', u'unallow', u'check_instal', u'undo']\n",
        "[u'bannow', u'workervmregex_num', u'hdemer', u'cleg', u'_serve_fil', u'eregex_numchregex_num', u'regex_numkregex_num', u'_ext_nod', u'tsmpregex_d', u'sudo_michael']\n",
        "[u'birkenfeld', u'_build', u'gdb', u'fabtool', u'pipermail', u'proxyminion', u'orgregex_pyfil', u'launchd', u'npmjs', u'awsecregex_num']\n",
        "[u'dload', u'information_schema', u'rolrepl', u'rolcreatedb', u'rolsup', u'rolcreaterol', u'rolcatupd', u'rolconfig', u'rolinherit', u'rolconnlimit']\n",
        "[u'rootdevicetyp', u'slc', u'tahr', u'cpu_flag', u'wireshark', u'bdist', u'cent', u'scientif', u'kernelreleas', u'manufactur']\n",
        "[u'hyper_info', u'build_script', u'build_pi', u'printstr', u'mysl', u'run_al', u'localcli', u'caller', u'virt', u'batch']\n",
        "typo 85\n",
        "[u'warn_until', u'superflu', u'misc', u'oop', u'volumes_from', u'network_mod', u'blkid', u'tz', u'ptys', u'tab']\n",
        "[u'pidof', u'anon_inod', u'comm', u'ino', u'regex_numw', u'chr', u'regex_numu', u'devtmpf', u'sdaregex_num', u'virtualnam']\n",
        "[u'myid', u'oa', u'lp', u'testhost', u'sync_after_instal', u'quux', u'argtest', u'postrout', u'buz', u'resourcepool']\n",
        "bug 88\n",
        "[u'ah', u'mini', u'symptom', u'minionupregex_num', u'forbidden', u'overal', u'unhelp', u'cryptic', u'experienc', u'snippet']\n",
        "[u'multiminion', u'publish_pul', u'minion_event_regex_numcregex_numcregex_numfregex_numbaeregex_numcregex_numfregex_numec_pub', u'minion_event_regex_numcregex_numcregex_numfregex_numbaeregex_numcregex_numfregex_numec_pul', u'levelnam', u'saltstream', u'saltrc', u'master_event_pub', u'master_event_pul', u'localclientev']\n",
        "[u'process_manag', u'_reconstruct', u'salt_key', u'root_cmd', u'_deepcopy_list', u'parse_block_mapping_key', u'_getsack', u'sack', u'populatesack', u'auth_tri']\n",
        "[u'regex_numxregex_numferegex_numcregex_num', u'map_denywrit', u'o_cloexec', u'mprotect', u'regex_numxregex_numferegex_numdregex_num', u'systemtim', u'timecr', u'hostip', u'hostport', u'seek_cur']\n",
        "annoy 92\n",
        "[u'heard', u'enable_gpu_grain', u'stem', u'hacki', u'whatsoev', u'droplet', u'converg', u'enviro', u'inabl', u'elabor']\n",
        "[u'zmq_reconnect_ivl', u'zmq_reconnect_ivl_max', u'regex_numm', u'date', u'ok', u'clean', u'start']\n",
        "[u'wait_for_port', u'regex_numxregex_numfregex_numdregex_num', u'apierror', u'eregex_numcregex_num', u'oaep', u'unauthor', u'uncaught', u'minionnam', u'masterexit', u'unpackvalueerror']\n",
        "[u'regex_numeregex_numcregex_numaregex_num', u'adv', u'hostfil', u'presto', u'satellit', u'regex_numcregex_numcbdcdcdregex_numefdregex_numa', u'trustdb', u'fastestmirror', u'djs', u'with_item']\n",
        "[u'printer', u'ppp', u'puppetmast', u'hostnameregex_num', u'bootup', u'cryptsetup', u'automount', u'logind', u'nm', u'replay']\n",
        "[u'technolog', u'sda', u'chipset', u'marketplac', u'kernelid', u'aacglxeowvnregex_numhyregex_numsznltowyq', u'ramsiz', u'regex_numdregex_numferegex_num', u'dnsname', u'clienttoken']\n",
        "[u'gnomedesktop', u'nick', u'mac_group', u'unload', u'launchctl', u'win_network', u'ldapmod', u'set_password', u'win_useradd', u'softwareproperti']\n",
        "[u'ldconfig', u'adminregex_num', u'gemset', u'ev', u'scene', u'mv', u'psycopgregex_num', u'regex_numeeregex_num', u'egg_info', u'tee']\n"
       ]
      }
     ],
     "prompt_number": 676
    },
    {
     "cell_type": "code",
     "collapsed": false,
     "input": [
      "#model.most_similar('featur')\n",
      "model.similarity('success','dload')"
     ],
     "language": "python",
     "metadata": {},
     "outputs": [
      {
       "metadata": {},
       "output_type": "pyout",
       "prompt_number": 677,
       "text": [
        "0.19387965051357517"
       ]
      }
     ],
     "prompt_number": 677
    },
    {
     "cell_type": "code",
     "collapsed": false,
     "input": [
      "model.similarity('featur','bug')"
     ],
     "language": "python",
     "metadata": {},
     "outputs": [
      {
       "metadata": {},
       "output_type": "pyout",
       "prompt_number": 678,
       "text": [
        "0.39829604808684621"
       ]
      }
     ],
     "prompt_number": 678
    },
    {
     "cell_type": "code",
     "collapsed": false,
     "input": [
      "d2vmodel = Doc2Vec(workers=4,dm=1,window=5,size=100)\n",
      "d2vmodel.build_vocab(doc2vec_inputs)"
     ],
     "language": "python",
     "metadata": {},
     "outputs": [],
     "prompt_number": 139
    },
    {
     "cell_type": "code",
     "collapsed": false,
     "input": [
      "idx = np.random.rand(len(doc2vec_inputs),1)[:,0] < .8\n",
      "doc2vec_inputs = np.array(doc2vec_inputs)\n",
      "doc2vec_inputs_train = doc2vec_inputs[idx]\n",
      "doc2vec_inputs_test = doc2vec_inputs[~idx]\n",
      "d2vmodel.train(doc2vec_inputs_train)\n",
      "#d2vmodel.train_words = False\n",
      "#d2vmodel.train_lbls = False"
     ],
     "language": "python",
     "metadata": {},
     "outputs": [
      {
       "metadata": {},
       "output_type": "pyout",
       "prompt_number": 153,
       "text": [
        "1084896"
       ]
      }
     ],
     "prompt_number": 153
    },
    {
     "cell_type": "code",
     "collapsed": false,
     "input": [
      "for _ in xrange(10):\n",
      "    d2vmodel.train(doc2vec_inputs_train)\n",
      "d2vmodel.train_words = False"
     ],
     "language": "python",
     "metadata": {},
     "outputs": [],
     "prompt_number": 174
    },
    {
     "cell_type": "code",
     "collapsed": false,
     "input": [
      "for _ in xrange(10):\n",
      "    d2vmodel.train(doc2vec_inputs_test)"
     ],
     "language": "python",
     "metadata": {},
     "outputs": [],
     "prompt_number": 274
    },
    {
     "cell_type": "code",
     "collapsed": false,
     "input": [
      "svc_X_train = []\n",
      "svc_labels_train = []\n",
      "for i in np.where(idx)[0]:\n",
      "    if 'Feature' in labels_for_doc2vec[i] or 'Bug' in labels_for_doc2vec[i]:\n",
      "      try:\n",
      "          svc_X_train.append(d2vmodel['document_' + str(i)])\n",
      "          if 'Feature' in labels_for_doc2vec[i]:\n",
      "            svc_labels_train.append('Feature')\n",
      "          else:\n",
      "            svc_labels_train.append('Bug')\n",
      "      except:\n",
      "          pass"
     ],
     "language": "python",
     "metadata": {},
     "outputs": [],
     "prompt_number": 213
    },
    {
     "cell_type": "code",
     "collapsed": false,
     "input": [
      "d2v_pred_test = []\n",
      "for i in np.where(~idx)[0]:\n",
      "  if 'Feature' in labels_for_doc2vec[i] or 'Bug' in labels_for_doc2vec[i]:\n",
      "    try:\n",
      "      d2v_pred_test.append('Bug' if d2vmodel.similarity('document_' + str(i),'Bug') > d2vmodel.similarity('document_' + str(i),'Feature') else 'Feature')\n",
      "    except:\n",
      "      pass"
     ],
     "language": "python",
     "metadata": {},
     "outputs": [],
     "prompt_number": 265
    },
    {
     "cell_type": "code",
     "collapsed": false,
     "input": [
      "confusion_matrix(d2v_pred_test,svc_labels_test)"
     ],
     "language": "python",
     "metadata": {},
     "outputs": [
      {
       "metadata": {},
       "output_type": "pyout",
       "prompt_number": 271,
       "text": [
        "array([[247, 107],\n",
        "       [261, 107]])"
       ]
      }
     ],
     "prompt_number": 271
    },
    {
     "cell_type": "code",
     "collapsed": false,
     "input": [
      "svc_X_test = []\n",
      "svc_labels_test = []\n",
      "for i in np.where(~idx)[0]:\n",
      "    if 'Feature' in labels_for_doc2vec[i] or 'Bug' in labels_for_doc2vec[i]:\n",
      "      try:\n",
      "          svc_X_test.append(d2vmodel['document_' + str(i)])\n",
      "          if 'Feature' in labels_for_doc2vec[i]:\n",
      "            svc_labels_test.append('Feature')\n",
      "          else:\n",
      "            svc_labels_test.append('Bug')\n",
      "      except:\n",
      "          pass"
     ],
     "language": "python",
     "metadata": {},
     "outputs": [],
     "prompt_number": 217
    },
    {
     "cell_type": "code",
     "collapsed": false,
     "input": [
      "np.where(~idx)"
     ],
     "language": "python",
     "metadata": {},
     "outputs": [
      {
       "metadata": {},
       "output_type": "pyout",
       "prompt_number": 262,
       "text": [
        "(array([    7,    12,    13, ..., 17108, 17111, 17121]),)"
       ]
      }
     ],
     "prompt_number": 262
    },
    {
     "cell_type": "code",
     "collapsed": false,
     "input": [
      "d2vmodel['document_7']"
     ],
     "language": "python",
     "metadata": {},
     "outputs": [
      {
       "metadata": {},
       "output_type": "pyout",
       "prompt_number": 275,
       "text": [
        "array([-1.06301141,  0.72160089,  0.21649843, -1.22810459, -0.95707494,\n",
        "        0.86748409,  0.34218389,  0.80650574,  1.18310738, -1.1600306 ,\n",
        "        0.95348263,  0.07392813, -0.16517538, -1.02692735, -0.82578593,\n",
        "        0.35484222,  0.20599243,  0.16256531,  0.09396617,  0.1254492 ,\n",
        "       -1.33731127, -1.23829722, -0.14997207, -0.63651669, -0.03734815,\n",
        "        1.26624584,  0.53144407, -0.24750152, -0.29071596, -0.44810644,\n",
        "       -0.33051011,  0.05997924,  0.29622394, -0.23903018,  0.3518917 ,\n",
        "       -0.53524685,  0.17991392,  0.33043408, -0.58286381, -0.1280704 ,\n",
        "       -0.34563866, -0.04717661, -1.0360831 ,  0.22609371, -0.00971113,\n",
        "        0.67466122,  0.80132896, -0.06055323, -1.14883626, -0.45667213,\n",
        "        0.02506318, -0.32766107, -0.45768034,  0.1141206 , -0.14892076,\n",
        "        0.85302365, -0.69850487,  1.08643568, -0.15262324,  0.61211836,\n",
        "        0.78450215,  0.52242422,  0.58334106, -1.42233956, -0.85144264,\n",
        "       -0.62772322,  0.11401065, -0.27002525,  1.52412629, -0.3186709 ,\n",
        "        1.25596535, -0.46686625, -0.00399316,  0.37213916,  0.3275401 ,\n",
        "        0.52132291, -0.81789166,  0.27609602,  0.50951719,  0.22408684,\n",
        "       -0.01033454, -0.26223892, -0.32773718, -0.0155287 ,  0.7312724 ,\n",
        "       -0.03498303,  0.49564126, -0.56272882,  0.13390523, -1.20206177,\n",
        "        0.13672338, -0.30903989, -0.3869426 , -0.46332493,  0.74062783,\n",
        "        1.78022027,  0.3257516 ,  1.19410181,  0.71217412,  0.14102724], dtype=float32)"
       ]
      }
     ],
     "prompt_number": 275
    },
    {
     "cell_type": "code",
     "collapsed": false,
     "input": [
      "x = np.array([[1,1],[-1,1],[1,1]])\n",
      "y = np.array([1,1]).reshape(-1,1)"
     ],
     "language": "python",
     "metadata": {},
     "outputs": [],
     "prompt_number": 40
    },
    {
     "cell_type": "code",
     "collapsed": false,
     "input": [
      "x"
     ],
     "language": "python",
     "metadata": {},
     "outputs": [
      {
       "metadata": {},
       "output_type": "pyout",
       "prompt_number": 41,
       "text": [
        "array([[ 1,  1],\n",
        "       [-1,  1],\n",
        "       [ 1,  1]])"
       ]
      }
     ],
     "prompt_number": 41
    },
    {
     "cell_type": "code",
     "collapsed": false,
     "input": [
      "y"
     ],
     "language": "python",
     "metadata": {},
     "outputs": [
      {
       "metadata": {},
       "output_type": "pyout",
       "prompt_number": 42,
       "text": [
        "array([[1],\n",
        "       [1]])"
       ]
      }
     ],
     "prompt_number": 42
    },
    {
     "cell_type": "code",
     "collapsed": false,
     "input": [
      "1 - np.array(np.dot(x,y.T).T/np.linalg.norm(x,axis=1)/np.linalg.norm(y.T))[0]"
     ],
     "language": "python",
     "metadata": {},
     "outputs": [
      {
       "metadata": {},
       "output_type": "pyout",
       "prompt_number": 60,
       "text": [
        "array([  1.11022302e-16,   1.00000000e+00,   1.11022302e-16])"
       ]
      }
     ],
     "prompt_number": 60
    },
    {
     "cell_type": "code",
     "collapsed": false,
     "input": [
      "np.linalg.norm(x,axis=1)"
     ],
     "language": "python",
     "metadata": {},
     "outputs": [
      {
       "metadata": {},
       "output_type": "pyout",
       "prompt_number": 33,
       "text": [
        "array([ 1.41421356,  1.41421356,  1.41421356])"
       ]
      }
     ],
     "prompt_number": 33
    },
    {
     "cell_type": "code",
     "collapsed": false,
     "input": [
      "np.linalg.norm((x - y.T),axis=1)"
     ],
     "language": "python",
     "metadata": {},
     "outputs": [
      {
       "metadata": {},
       "output_type": "pyout",
       "prompt_number": 52,
       "text": [
        "array([ 0.,  2.,  0.])"
       ]
      }
     ],
     "prompt_number": 52
    },
    {
     "cell_type": "code",
     "collapsed": false,
     "input": [
      "y.T"
     ],
     "language": "python",
     "metadata": {},
     "outputs": [
      {
       "metadata": {},
       "output_type": "pyout",
       "prompt_number": 51,
       "text": [
        "array([[1, 1]])"
       ]
      }
     ],
     "prompt_number": 51
    },
    {
     "cell_type": "code",
     "collapsed": false,
     "input": [
      "x"
     ],
     "language": "python",
     "metadata": {},
     "outputs": [
      {
       "metadata": {},
       "output_type": "pyout",
       "prompt_number": 53,
       "text": [
        "array([[ 1,  1],\n",
        "       [-1,  1],\n",
        "       [ 1,  1]])"
       ]
      }
     ],
     "prompt_number": 53
    },
    {
     "cell_type": "code",
     "collapsed": false,
     "input": [
      "y"
     ],
     "language": "python",
     "metadata": {},
     "outputs": [
      {
       "metadata": {},
       "output_type": "pyout",
       "prompt_number": 54,
       "text": [
        "array([[1],\n",
        "       [1]])"
       ]
      }
     ],
     "prompt_number": 54
    },
    {
     "cell_type": "code",
     "collapsed": false,
     "input": [],
     "language": "python",
     "metadata": {},
     "outputs": []
    }
   ],
   "metadata": {}
  }
 ]
}